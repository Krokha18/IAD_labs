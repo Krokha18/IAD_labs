{
 "cells": [
  {
   "cell_type": "markdown",
   "metadata": {},
   "source": [
    "# 1. Лінійна регресія (1D)\n",
    "Згенеруйте синтетичний набір точок виду y = ax + b + noise. ."
   ]
  },
  {
   "cell_type": "code",
   "execution_count": 1,
   "metadata": {},
   "outputs": [],
   "source": [
    "import numpy as np\n",
    "import matplotlib.pyplot as plt"
   ]
  },
  {
   "cell_type": "code",
   "execution_count": 2,
   "metadata": {},
   "outputs": [],
   "source": [
    "np.random.seed(42)"
   ]
  },
  {
   "cell_type": "code",
   "execution_count": 3,
   "metadata": {},
   "outputs": [],
   "source": [
    "n1 = 50 #количество точек\n",
    "\n",
    "a = 0.5\n",
    "b = 2\n",
    "X = np.array([i for i in range(n1)])\n",
    "noise = np.random.normal(loc=0.0,scale=1.0, size = X.shape)\n",
    "\n",
    "y = a*X+b+noise"
   ]
  },
  {
   "cell_type": "markdown",
   "metadata": {},
   "source": [
    "Візуалізуйте результат за\n",
    "допомогою (matplotlib). "
   ]
  },
  {
   "cell_type": "code",
   "execution_count": 4,
   "metadata": {},
   "outputs": [
    {
     "data": {
      "text/plain": [
       "<matplotlib.collections.PathCollection at 0x7feae4b3d0d0>"
      ]
     },
     "execution_count": 4,
     "metadata": {},
     "output_type": "execute_result"
    },
    {
     "data": {
      "image/png": "[encoded data removed]",
      "text/plain": [
       "<Figure size 432x288 with 1 Axes>"
      ]
     },
     "metadata": {
      "needs_background": "light"
     },
     "output_type": "display_data"
    }
   ],
   "source": [
    "plt.scatter(X,y, color = 'red' )"
   ]
  },
  {
   "cell_type": "markdown",
   "metadata": {},
   "source": [
    "# Вирішіть задачу лінійної регресії для такого набору точок.\n",
    "# Параметри моделі знайдіть за допомогою градієнтного спуску. "
   ]
  },
  {
   "cell_type": "markdown",
   "metadata": {},
   "source": [
    "$ \\mid\\mid X w - y \\mid\\mid^2 \\rightarrow min_w $ - задача лінійної регресії.\n",
    "\n",
    "Розв'язувати її можна:\n",
    "\n",
    "аналітично:\n",
    "$ w = (X^T * X)^{-1} * X^T y $\n",
    "\n",
    "або за допомогою стохастичного градієнтного спуску:\n",
    "\n",
    "- обираємо випадковим чином об'єкт вибірки (0..n1-1)\n",
    "- \\mathop{\\nabla}_{L(x)} = 2*x^T(xw-y) - градієнт кост-функції за вектором параметрів w ( в даному випадку, вектор (a, b) )\n",
    "- оновлюємо вектор параметрів w:\n",
    "$ w = w - \\alpha * \\mathop{\\nabla}{L(x)} $\n",
    "\n",
    "Повторюємо процедуру до збіжності"
   ]
  },
  {
   "cell_type": "code",
   "execution_count": 5,
   "metadata": {},
   "outputs": [],
   "source": [
    "class LinearRegression:\n",
    "    def __init__(self, method):\n",
    "        if(method == 'sgd' or method == 'normal-eq' or method == 'gd'):\n",
    "            self.method = method \n",
    "        else:\n",
    "            raise ValueError(\"method not implemented\")\n",
    "        self.w = None\n",
    "    def fit(self, X, y):\n",
    "        if(X.shape[0]!=y.shape[0]):\n",
    "            raise ValueError(\"dimension 0 must be equal for X and y\")\n",
    "        X_copy = None\n",
    "        if(len(X.shape)==1):\n",
    "            X_copy = np.zeros( (X.shape[0],2))\n",
    "            X_copy[:,0] = 1\n",
    "            X_copy[:,1] = X\n",
    "        else:\n",
    "            X_copy = np.zeros((X.shape[0],X.shape[1]+1))\n",
    "            X_copy[:,0] = 1\n",
    "            X_copy[:,1:] = X\n",
    "        print(\"First parameter is for 1\")\n",
    "        #print(X_copy)\n",
    "        if(self.method=='normal-eq'):\n",
    "            w = np.linalg.inv(X_copy.T @ X_copy) @ X_copy.T @ y\n",
    "            print(w)\n",
    "            self.w = w\n",
    "            return w, X_copy\n",
    "        elif(self.method=='sgd'):\n",
    "            w = np.random.normal(loc=0.0, scale=0.1, size = (X_copy.shape[1],))\n",
    "            n = X_copy.shape[0]\n",
    "            i = np.random.choice(a = [i for i in range(n)], size=1)\n",
    "            x = X_copy[i]\n",
    "            \n",
    "            eps = 1e-6\n",
    "            alpha = 0.001\n",
    "            j = 0\n",
    "            max_iter = 1000000\n",
    "            while ( np.linalg.norm( x.T@(x@w - y[i]) ) > eps and j < max_iter):\n",
    "                w = w - alpha*( x.T @(x@w - y[i]) )\n",
    "                i = np.random.choice(a = [i for i in range(n)], size=1)\n",
    "                x = X_copy[i]\n",
    "                \n",
    "                j+=1\n",
    "            \n",
    "            if(j>=max_iter):\n",
    "                print(f\"Limit of iterations reached({max_iter})\")\n",
    "            else:\n",
    "                print(f\"{j} iterations until converged\")\n",
    "            self.w = w\n",
    "            print(w)\n",
    "            return w, X_copy\n",
    "        elif (self.method == 'gd'):\n",
    "            w = np.random.normal(loc=0.0, scale=0.1, size = (X_copy.shape[1],))\n",
    "            n = X_copy.shape[0]\n",
    "            \n",
    "            eps = 1e-6\n",
    "            alpha = 1e-5\n",
    "            j = 0\n",
    "            max_iter = 10000\n",
    "            while ( np.linalg.norm( X_copy.T@(X_copy@w - y) ) > eps and j < max_iter):\n",
    "                w = w - alpha*( X_copy.T @(X_copy@w - y) )\n",
    "                j+=1\n",
    "            \n",
    "            if(j>=max_iter):\n",
    "                print(f\"Limit of iterations reached({max_iter})\")\n",
    "            else:\n",
    "                print(f\"{j} iterations until converged\")\n",
    "            self.w = w\n",
    "            print(w)\n",
    "            return w, X_copy\n",
    "    def predict(self,X):\n",
    "        X_copy = None\n",
    "        if(len(X.shape)==1):\n",
    "            X_copy = np.zeros( (X.shape[0],2))\n",
    "            X_copy[:,0] = 1\n",
    "            X_copy[:,1] = X\n",
    "        else:\n",
    "            X_copy = np.zeros((X.shape[0],X.shape[1]+1))\n",
    "            X_copy[:,0] = 1\n",
    "            X_copy[:,1:] = X\n",
    "        return X_copy @ self.w"
   ]
  },
  {
   "cell_type": "code",
   "execution_count": 6,
   "metadata": {},
   "outputs": [
    {
     "name": "stdout",
     "output_type": "stream",
     "text": [
      "First parameter is for 1\n",
      "[2.06444309 0.48816665]\n",
      "CPU times: user 3.05 ms, sys: 518 µs, total: 3.57 ms\n",
      "Wall time: 2.34 ms\n"
     ]
    }
   ],
   "source": [
    "%%time\n",
    "lin_reg = LinearRegression(method='normal-eq')\n",
    "w, _ = lin_reg.fit(X, y)\n",
    "#w"
   ]
  },
  {
   "cell_type": "code",
   "execution_count": 7,
   "metadata": {},
   "outputs": [
    {
     "data": {
      "text/plain": [
       "(-4.458655666894628e-15, 0.825141795111157)"
      ]
     },
     "execution_count": 7,
     "metadata": {},
     "output_type": "execute_result"
    }
   ],
   "source": [
    "np.mean( y - lin_reg.predict(X)), np.var( y - lin_reg.predict(X))"
   ]
  },
  {
   "cell_type": "code",
   "execution_count": 8,
   "metadata": {},
   "outputs": [
    {
     "name": "stdout",
     "output_type": "stream",
     "text": [
      "First parameter is for 1\n",
      "Limit of iterations reached(1000000)\n",
      "[2.0861638  0.55684557]\n",
      "CPU times: user 1min 31s, sys: 326 ms, total: 1min 32s\n",
      "Wall time: 1min 32s\n"
     ]
    }
   ],
   "source": [
    "%%time\n",
    "lin_reg = LinearRegression(method='sgd')\n",
    "w, _ = lin_reg.fit(X,y)\n",
    "#w"
   ]
  },
  {
   "cell_type": "code",
   "execution_count": 9,
   "metadata": {},
   "outputs": [
    {
     "data": {
      "text/plain": [
       "(-1.7043541087303469, 1.8074139999746206)"
      ]
     },
     "execution_count": 9,
     "metadata": {},
     "output_type": "execute_result"
    }
   ],
   "source": [
    "np.mean( y - lin_reg.predict(X)), np.var( y - lin_reg.predict(X))"
   ]
  },
  {
   "cell_type": "code",
   "execution_count": 10,
   "metadata": {},
   "outputs": [
    {
     "name": "stdout",
     "output_type": "stream",
     "text": [
      "First parameter is for 1\n",
      "Limit of iterations reached(10000)\n",
      "[1.4823203  0.50581235]\n"
     ]
    }
   ],
   "source": [
    "lin_reg = LinearRegression(method='gd')\n",
    "w, _ = lin_reg.fit(X,y)"
   ]
  },
  {
   "cell_type": "code",
   "execution_count": 11,
   "metadata": {},
   "outputs": [
    {
     "data": {
      "text/plain": [
       "(0.1498031144907451, 0.8899847568604643)"
      ]
     },
     "execution_count": 11,
     "metadata": {},
     "output_type": "execute_result"
    }
   ],
   "source": [
    "np.mean( y - lin_reg.predict(X)), np.var( y - lin_reg.predict(X))"
   ]
  },
  {
   "cell_type": "code",
   "execution_count": 12,
   "metadata": {},
   "outputs": [
    {
     "data": {
      "text/plain": [
       "(2, 0.5)"
      ]
     },
     "execution_count": 12,
     "metadata": {},
     "output_type": "execute_result"
    }
   ],
   "source": [
    "(b, a)"
   ]
  },
  {
   "cell_type": "markdown",
   "metadata": {},
   "source": [
    "Коментарі:\n",
    "- на невеликих датасетах може бути доцільним використання нормального рівняння.\n",
    "- на великих датасетах зручніше користуватися методами оптимізації ( зокрема, стохастичний градієнтний спуск)\n",
    "sgd найлегший за ресурсами, але може вимагати багато ітерацій для збіжності.\n",
    "normal-eq може вимагати багато ресурсів (обернення великого розміру матриці)"
   ]
  },
  {
   "cell_type": "markdown",
   "metadata": {},
   "source": [
    "# 2. Логістична регресія (2D)\n",
    "Згенеруйте два синтетичних набори точок на площині, додайте ім мітки класів (0 і 1)."
   ]
  },
  {
   "cell_type": "code",
   "execution_count": 31,
   "metadata": {},
   "outputs": [
    {
     "data": {
      "text/plain": [
       "(array([[ 0.55942643,  2.38869353],\n",
       "        [ 1.31217492, -0.7173148 ],\n",
       "        [-1.5598485 , -1.92487377],\n",
       "        [-2.2813861 , -0.1368559 ],\n",
       "        [ 1.56070438, -0.42795824]]),\n",
       " array([0, 1, 0, 0, 1]))"
      ]
     },
     "execution_count": 31,
     "metadata": {},
     "output_type": "execute_result"
    }
   ],
   "source": [
    "from sklearn.datasets import make_classification\n",
    "X_data, y_data = make_classification(n_samples=100, n_features=2,n_informative=2, n_redundant=0, n_repeated=0,weights=[0.5,0.5],random_state=42)\n",
    "X_data[:5], y_data[:5]"
   ]
  },
  {
   "cell_type": "markdown",
   "metadata": {},
   "source": [
    "Візуалізуйте результат за допомогою (matplotlib). "
   ]
  },
  {
   "cell_type": "code",
   "execution_count": 32,
   "metadata": {},
   "outputs": [
    {
     "data": {
      "text/plain": [
       "<matplotlib.collections.PathCollection at 0x7feaa0f98c10>"
      ]
     },
     "execution_count": 32,
     "metadata": {},
     "output_type": "execute_result"
    },
    {
     "data": {
      "image/png": "[encoded data removed]",
      "text/plain": [
       "<Figure size 432x288 with 1 Axes>"
      ]
     },
     "metadata": {
      "needs_background": "light"
     },
     "output_type": "display_data"
    }
   ],
   "source": [
    "plt.scatter(X_data[y_data==0][:,0], X_data[y_data==0][:,1] , color = 'blue')\n",
    "plt.scatter(X_data[y_data==1][:,0], X_data[y_data==1][:,1] , color = 'red')"
   ]
  },
  {
   "cell_type": "markdown",
   "metadata": {},
   "source": [
    "Розділіть дані на класи за допомогою\n",
    "логістичної регресії."
   ]
  },
  {
   "cell_type": "markdown",
   "metadata": {},
   "source": [
    "Нехай $ y_{i} $ - істинні мітки (0,1) , $ p(w,x_i) $ - ймовірності класу 1 для обьекту $x_i$.\n",
    "Тоді логістична регресія - рішення оптимізаційної задачі:\n",
    "$$ \\sum_{i=1}^{n}(-y_i*log(p(w,x_i))-(1-y_i)*log(1-p(w,x_i)) \\rightarrow min_w $$\n",
    "\n",
    "Аналітичного розвязку дана задача не має. Тому, розв'язати будемо методами gd та sgd.\n",
    "\n",
    "$$ \\mathop{\\nabla}{L(x)} = (\\sigma(w,x) - y)*x$$"
   ]
  },
  {
   "cell_type": "code",
   "execution_count": 25,
   "metadata": {},
   "outputs": [],
   "source": [
    "def sigmoid(M):\n",
    "    return 1.0/(1+np.exp(-M))\n",
    "\n",
    "#Дана реалізація логістичної регрессії підтримує параметр fit_intercept - чи навчати параметр для константи\n",
    "class LogisticRegression:\n",
    "    def __init__(self, method='sgd', fit_intercept=False):\n",
    "        if(method=='sgd'):\n",
    "            self.method=method\n",
    "        else:\n",
    "            raise ValueError(\"method not implemented\")\n",
    "        if(fit_intercept==True or fit_intercept==False):\n",
    "            self.fit_intercept=fit_intercept\n",
    "        self.w = None\n",
    "    def fit(self, X, y):\n",
    "        if(X.shape[0]!=y.shape[0]):\n",
    "            raise ValueError(\"dimension 0 must be equal for X and y\")\n",
    "        X_copy = None\n",
    "        if len(X.shape)==1 and self.fit_intercept==True:\n",
    "            X_copy = np.zeros( (X.shape[0],2))\n",
    "            X_copy[:,0] = 1\n",
    "            X_copy[:,1] = X\n",
    "        elif len(X.shape)==1 and self.fit_intercept ==False:\n",
    "            X_copy = np.zeros( (X.shape[0],1))\n",
    "            X_copy[:,0] = X\n",
    "        elif len(X.shape)==2 and self.fit_intercept == False:\n",
    "            X_copy = X\n",
    "        elif len(X.shape)==2 and self.fit_intercept==True:\n",
    "            X_copy = np.zeros((X.shape[0],X.shape[1]+1))\n",
    "            X_copy[:,0] = 1\n",
    "            X_copy[:,1:] = X\n",
    "        if(self.method=='sgd'):\n",
    "            w = np.random.normal(loc=0.0, scale=0.1, size = (X_copy.shape[1],))\n",
    "            n = X_copy.shape[0]\n",
    "            i = np.random.choice(a = [j for j in range(n)], size=1)\n",
    "            x = X_copy[i]\n",
    "            \n",
    "            eps = 1e-6\n",
    "            alpha = 0.001\n",
    "            j = 0\n",
    "            max_iter = 1000000\n",
    "            grad_vect = (sigmoid(-float(x@w))-y[i])*x\n",
    "            while ( np.linalg.norm( grad_vect ) > eps and j < max_iter):\n",
    "                w = w - alpha*(grad_vect*x)\n",
    "                i = np.random.choice(a = [i for i in range(n)], size=1)\n",
    "                x = X_copy[i]\n",
    "                w = w[0]\n",
    "                grad_vect = (sigmoid(-float(x@w))-y[i])*x\n",
    "                grad_vect = grad_vect[0]\n",
    "                j+=1\n",
    "            \n",
    "            if(j>=max_iter):\n",
    "                print(f\"Limit of iterations reached({max_iter})\")\n",
    "            else:\n",
    "                print(f\"{j} iterations until converged\")\n",
    "            self.w = w\n",
    "            print(w)\n",
    "            return w, X_copy\n",
    "\n",
    "    def predict(self,X):\n",
    "        X_copy = None\n",
    "        if len(X.shape)==1 and self.fit_intercept==True:\n",
    "            X_copy = np.zeros( (X.shape[0],2))\n",
    "            X_copy[:,0] = 1\n",
    "            X_copy[:,1] = X\n",
    "        elif len(X.shape)==1 and self.fit_intercept ==False:\n",
    "            X_copy = np.zeros( (X.shape[0],1))\n",
    "            X_copy[:,0] = X\n",
    "        elif len(X.shape)==2 and self.fit_intercept == False:\n",
    "            X_copy = X\n",
    "        elif len(X.shape)==2 and self.fit_intercept==True:\n",
    "            X_copy = np.zeros((X.shape[0],X.shape[1]+1))\n",
    "            X_copy[:,0] = 1\n",
    "            X_copy[:,1:] = X\n",
    "        return np.array([sigmoid(-x@self.w) for x in X_copy])"
   ]
  },
  {
   "cell_type": "code",
   "execution_count": 33,
   "metadata": {},
   "outputs": [],
   "source": [
    "from sklearn.model_selection import train_test_split\n",
    "X_train, X_test, y_train, y_test = train_test_split(X_data,y_data, stratify=y_data, shuffle=True)"
   ]
  },
  {
   "cell_type": "code",
   "execution_count": 34,
   "metadata": {},
   "outputs": [
    {
     "name": "stdout",
     "output_type": "stream",
     "text": [
      "Limit of iterations reached(1000000)\n",
      "[-4.0554234   0.16996918]\n",
      "Accuracy: 0.92\n",
      "Precision: 0.9230769230769231\n",
      "Recall: 0.9230769230769231\n"
     ]
    }
   ],
   "source": [
    "from sklearn.metrics import accuracy_score, precision_score, recall_score\n",
    "\n",
    "log_reg = LogisticRegression(method='sgd',fit_intercept=False)\n",
    "log_reg.fit(X_train, y_train)\n",
    "\n",
    "y_pred = (log_reg.predict(X_test)>0.5).astype('int')\n",
    "print(f\"Accuracy: {accuracy_score(y_test,y_pred)}\")\n",
    "print(f\"Precision: {precision_score(y_test,y_pred)}\")\n",
    "print(f\"Recall: {recall_score(y_test, y_pred)}\")"
   ]
  },
  {
   "cell_type": "code",
   "execution_count": 35,
   "metadata": {},
   "outputs": [
    {
     "name": "stdout",
     "output_type": "stream",
     "text": [
      "27525 iterations until converged\n",
      "[-2.77726959 -3.03516819 -2.28033857]\n",
      "Accuracy: 0.76\n",
      "Precision: 0.6842105263157895\n",
      "Recall: 1.0\n"
     ]
    }
   ],
   "source": [
    "log_reg = LogisticRegression(method='sgd',fit_intercept=True)\n",
    "log_reg.fit(X_train, y_train)\n",
    "\n",
    "y_pred = (log_reg.predict(X_test)>0.5).astype('int')\n",
    "print(f\"Accuracy: {accuracy_score(y_test,y_pred)}\")\n",
    "print(f\"Precision: {precision_score(y_test,y_pred)}\")\n",
    "print(f\"Recall: {recall_score(y_test, y_pred)}\")"
   ]
  },
  {
   "cell_type": "markdown",
   "metadata": {},
   "source": [
    "Перевірте якість алгоритма за допомогою метрики accuracy (на\n",
    "тестових даних)."
   ]
  }
 ],
 "metadata": {
  "kernelspec": {
   "display_name": "Python 3",
   "language": "python",
   "name": "python3"
  },
  "language_info": {
   "codemirror_mode": {
    "name": "ipython",
    "version": 3
   },
   "file_extension": ".py",
   "mimetype": "text/x-python",
   "name": "python",
   "nbconvert_exporter": "python",
   "pygments_lexer": "ipython3",
   "version": "3.8.10"
  }
 },
 "nbformat": 4,
 "nbformat_minor": 4
}
